{
  "nbformat": 4,
  "nbformat_minor": 0,
  "metadata": {
    "kernelspec": {
      "display_name": "Python 3",
      "language": "python",
      "name": "python3"
    },
    "language_info": {
      "codemirror_mode": {
        "name": "ipython",
        "version": 3
      },
      "file_extension": ".py",
      "mimetype": "text/x-python",
      "name": "python",
      "nbconvert_exporter": "python",
      "pygments_lexer": "ipython3",
      "version": "3.6.5"
    },
    "colab": {
      "name": "BairdCounterExample.ipynb",
      "provenance": [],
      "collapsed_sections": [],
      "include_colab_link": true
    }
  },
  "cells": [
    {
      "cell_type": "markdown",
      "metadata": {
        "id": "view-in-github",
        "colab_type": "text"
      },
      "source": [
        "<a href=\"https://colab.research.google.com/github/harmanpreet93/reinforcement-learning-COMP-767/blob/master/BairdCounterExample.ipynb\" target=\"_parent\"><img src=\"https://colab.research.google.com/assets/colab-badge.svg\" alt=\"Open In Colab\"/></a>"
      ]
    },
    {
      "cell_type": "markdown",
      "metadata": {
        "id": "5SWL-HYE2HSz",
        "colab_type": "text"
      },
      "source": [
        "### Baird Counter Example"
      ]
    },
    {
      "cell_type": "code",
      "metadata": {
        "id": "wAe6mwEM2HS0",
        "colab_type": "code",
        "colab": {}
      },
      "source": [
        "import numpy as np\n",
        "import matplotlib.pyplot as plt"
      ],
      "execution_count": 0,
      "outputs": []
    },
    {
      "cell_type": "code",
      "metadata": {
        "colab_type": "code",
        "id": "pD31oZ3iIXIK",
        "colab": {}
      },
      "source": [
        "class BairdMDP():\n",
        "    \n",
        "    def __init__(self):\n",
        "        self.SOLID = 1\n",
        "        self.DASH = 0\n",
        "        self.NUM_OF_STATES = 7\n",
        "        self.step_prob = 1/self.NUM_OF_STATES\n",
        "    \n",
        "    def pick_action(self):\n",
        "        action = np.random.binomial(1, self.step_prob)\n",
        "        return action\n",
        "\n",
        "    def step(self, action):\n",
        "        if action == self.SOLID:\n",
        "            next_state = 6\n",
        "        elif action == self.DASH:\n",
        "            next_state = np.random.choice(self.NUM_OF_STATES - 1)\n",
        "        return next_state"
      ],
      "execution_count": 0,
      "outputs": []
    },
    {
      "cell_type": "code",
      "metadata": {
        "id": "fM6nr75SXYvz",
        "colab_type": "code",
        "colab": {}
      },
      "source": [
        "class SemiGradientTD0():\n",
        "\n",
        "    def __init__(self, bairdMDP, gamma=0.99, alpha=0.01):\n",
        "        self.mdp = bairdMDP\n",
        "        self.gamma = gamma\n",
        "        self.alpha = alpha\n",
        "        self.initialize_features_and_weights()\n",
        "\n",
        "    def initialize_features_and_weights(self):\n",
        "        self.weights = self.initialize_weights()\n",
        "        self.features = self.get_feature_representation()\n",
        "\n",
        "    def initialize_weights(self):\n",
        "        return np.array([1,1,1,1,1,1,10,1], dtype=np.float32)\n",
        "\n",
        "    def get_feature_representation(self):\n",
        "        return np.array([[2, 0, 0, 0, 0, 0, 0, 1],\n",
        "                        [0, 2, 0, 0, 0, 0, 0, 1],\n",
        "                        [0, 0, 2, 0, 0, 0, 0, 1],\n",
        "                        [0, 0, 0, 2, 0, 0, 0, 1],\n",
        "                        [0, 0, 0, 0, 2, 0, 0, 1],\n",
        "                        [0, 0, 0, 0, 0, 2, 0, 1],\n",
        "                        [0, 0, 0, 0, 0, 0, 1, 2]], dtype=np.float32)\n",
        "        \n",
        "    def value(self, state):\n",
        "        return np.dot(self.weights, self.features[state])\n",
        "\n",
        "    def run_TD_algorithm(self, n_steps=1000):\n",
        "        current_state = np.random.choice(mdp.NUM_OF_STATES)\n",
        "        step_weights = np.zeros((n_steps, len(self.weights)))\n",
        "        values = np.zeros((n_steps)) \n",
        "        step = 0\n",
        "        while step < n_steps:\n",
        "            step_weights[step] = self.weights\n",
        "            values[step] = self.value(current_state)\n",
        "            action = self.mdp.pick_action()\n",
        "            next_state = self.mdp.step(action)\n",
        "            if action == self.mdp.DASH:\n",
        "                rho = 0\n",
        "            else:\n",
        "                rho = 1/self.mdp.step_prob\n",
        "            delta = self.gamma * self.value(next_state) - self.value(current_state)\n",
        "            self.weights += self.alpha * rho * delta * self.features[current_state]\n",
        "            current_state = next_state\n",
        "            step += 1\n",
        "\n",
        "        return step_weights, values\n",
        "\n",
        "\n",
        "def plot_weights_graph(step_weights):\n",
        "    plt.figure(figsize=[7,7.5])\n",
        "    steps, num_weights = step_weights.shape\n",
        "    for i in range(num_weights):\n",
        "        plt.plot(range(steps), step_weights[:,i], label=\"w{}\".format(i+1))\n",
        "    plt.xlabel(\"Steps\")\n",
        "    plt.title(\"Semi-gradient Off-policy TD(0)\")\n",
        "    plt.legend();"
      ],
      "execution_count": 0,
      "outputs": []
    },
    {
      "cell_type": "code",
      "metadata": {
        "id": "F2zoD9Maazt0",
        "colab_type": "code",
        "colab": {
          "base_uri": "https://localhost:8080/",
          "height": 486
        },
        "outputId": "c1a94978-fc4e-4745-ed27-7aedf38e2384"
      },
      "source": [
        "mdp = BairdMDP()\n",
        "semiGradTD = SemiGradientTD0(mdp)\n",
        "step_weights, values = semiGradTD.run_TD_algorithm(n_steps=1000)\n",
        "plot_weights_graph(step_weights)"
      ],
      "execution_count": 190,
      "outputs": [
        {
          "output_type": "display_data",
          "data": {
            "image/png": "[encoded data removed]",
            "text/plain": [
              "<Figure size 504x540 with 1 Axes>"
            ]
          },
          "metadata": {
            "tags": []
          }
        }
      ]
    },
    {
      "cell_type": "code",
      "metadata": {
        "id": "rvLGZ1b86kUl",
        "colab_type": "code",
        "colab": {}
      },
      "source": [
        ""
      ],
      "execution_count": 0,
      "outputs": []
    }
  ]
}