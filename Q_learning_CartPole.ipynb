{
  "nbformat": 4,
  "nbformat_minor": 0,
  "metadata": {
    "colab": {
      "name": "RL_assignment2.ipynb",
      "provenance": [],
      "collapsed_sections": [],
      "authorship_tag": "ABX9TyNnhjWxF7KjjWT608Ri6TSH",
      "include_colab_link": true
    },
    "kernelspec": {
      "name": "python3",
      "display_name": "Python 3"
    },
    "accelerator": "GPU"
  },
  "cells": [
    {
      "cell_type": "markdown",
      "metadata": {
        "id": "view-in-github",
        "colab_type": "text"
      },
      "source": [
        "<a href=\"https://colab.research.google.com/github/harmanpreet93/reinforcement-learning-COMP-767/blob/master/Q_learning_CartPole.ipynb\" target=\"_parent\"><img src=\"https://colab.research.google.com/assets/colab-badge.svg\" alt=\"Open In Colab\"/></a>"
      ]
    },
    {
      "cell_type": "code",
      "metadata": {
        "id": "Qcp3ODpuvIQS",
        "colab_type": "code",
        "colab": {
          "base_uri": "https://localhost:8080/",
          "height": 34
        },
        "outputId": "a7e4efc6-a327-499b-8f84-370759bbfa5b"
      },
      "source": [
        "import gym\n",
        "import random\n",
        "from tqdm import tqdm\n",
        "import matplotlib.pyplot as plt\n",
        "from torch.autograd import Variable\n",
        "from IPython.display import clear_output\n",
        "\n",
        "# ! pip install tensorflow==2.1.0\n",
        "import tensorflow as tf\n",
        "tf.__version__"
      ],
      "execution_count": 162,
      "outputs": [
        {
          "output_type": "execute_result",
          "data": {
            "text/plain": [
              "'2.1.0'"
            ]
          },
          "metadata": {
            "tags": []
          },
          "execution_count": 162
        }
      ]
    },
    {
      "cell_type": "code",
      "metadata": {
        "id": "KeMS7kPmlVVk",
        "colab_type": "code",
        "colab": {}
      },
      "source": [
        "def plot_res(values, title=''):   \n",
        "    ''' Plot the reward curve and histogram of results over time.'''\n",
        "    # Update the window after each episode\n",
        "    clear_output(wait=True)\n",
        "    \n",
        "    # Define the figure\n",
        "    f, ax = plt.subplots(nrows=1, ncols=2, figsize=(12,5))\n",
        "    f.suptitle(title)\n",
        "    ax[0].plot(values, label='score per run')\n",
        "    ax[0].axhline(195, c='red',ls='--', label='goal')\n",
        "    ax[0].set_xlabel('Episodes')\n",
        "    ax[0].set_ylabel('Reward')\n",
        "    x = range(len(values))\n",
        "    ax[0].legend()\n",
        "    # Calculate the trend\n",
        "    try:\n",
        "        z = np.polyfit(x, values, 1)\n",
        "        p = np.poly1d(z)\n",
        "        ax[0].plot(x,p(x),\"--\", label='trend')\n",
        "    except:\n",
        "        print('')\n",
        "    \n",
        "    # Plot the histogram of results\n",
        "    ax[1].hist(values[-50:])\n",
        "    ax[1].axvline(195, c='red', label='goal')\n",
        "    ax[1].set_xlabel('Scores per Last 50 Episodes')\n",
        "    ax[1].set_ylabel('Frequency')\n",
        "    ax[1].legend()\n",
        "    plt.show()"
      ],
      "execution_count": 0,
      "outputs": []
    },
    {
      "cell_type": "code",
      "metadata": {
        "id": "9AA9YcPTCKIP",
        "colab_type": "code",
        "outputId": "565bee2e-cf8e-437d-c3e6-250e66c03546",
        "colab": {
          "base_uri": "https://localhost:8080/",
          "height": 51
        }
      },
      "source": [
        "env = gym.make('CartPole-v1')\n",
        "env.reset()\n",
        "\n",
        "discount_rate = 0.9\n",
        "epsilon = 0.1\n",
        "step_size = 0.1 # learning rate\n",
        "n_obs_space = len(env.observation_space.high)\n",
        "n_actions = env.action_space.n\n",
        "\n",
        "n_hidden = 64\n",
        "\n",
        "class Model(tf.keras.Model):\n",
        "\n",
        "    def __init__(self, n_states, n_actions, hidden_dim=64, lr=0.05):\n",
        "        super(Model, self).__init__()\n",
        "        self.dense1 = tf.keras.layers.Dense(n_hidden, input_shape=(n_states,), activation='relu')\n",
        "        self.dense2 = tf.keras.layers.Dense(n_hidden, activation='relu')\n",
        "        self.logits = tf.keras.layers.Dense(n_actions)\n",
        "\n",
        "    def call(self, inputs):\n",
        "        x = self.dense1(inputs)\n",
        "        x = self.dense2(x)\n",
        "        return self.logits(x)\n",
        "\n",
        "\n",
        "optimizer = tf.keras.optimizers.Adam(learning_rate=0.05)\n",
        "loss_fn = tf.keras.losses.MeanSquaredError()\n",
        "train_loss = tf.keras.metrics.MeanSquaredError()\n",
        "train_accuracy = tf.keras.metrics.Accuracy()\n",
        "\n",
        "@tf.function\n",
        "def train_step(inputs, y_true, optimizer, loss_fn):\n",
        "    with tf.GradientTape() as tape:\n",
        "        # training=True is only needed if there are layers with different\n",
        "        # behavior during training versus inference (e.g. Dropout).\n",
        "        y_pred = model(inputs, training=True)\n",
        "        loss = loss_fn(y_true, y_pred)\n",
        "    gradients = tape.gradient(loss, model.trainable_variables)\n",
        "    optimizer.apply_gradients(zip(gradients, model.trainable_variables))\n",
        "\n",
        "    return y_pred, y_true, loss"
      ],
      "execution_count": 268,
      "outputs": [
        {
          "output_type": "stream",
          "text": [
            "/usr/local/lib/python3.6/dist-packages/gym/logger.py:30: UserWarning: \u001b[33mWARN: Box bound precision lowered by casting to float32\u001b[0m\n",
            "  warnings.warn(colorize('%s: %s'%('WARN', msg % args), 'yellow'))\n"
          ],
          "name": "stderr"
        }
      ]
    },
    {
      "cell_type": "code",
      "metadata": {
        "id": "eIdzkpa2njVD",
        "colab_type": "code",
        "colab": {}
      },
      "source": [
        ""
      ],
      "execution_count": 0,
      "outputs": []
    },
    {
      "cell_type": "code",
      "metadata": {
        "id": "JBWLnWwWTwpc",
        "colab_type": "code",
        "colab": {}
      },
      "source": [
        "def replay(model, memory, buffer_size, discount_rate, optimizer, loss_fn):\n",
        "    if len(memory) > buffer_size:\n",
        "        X,y = [], []\n",
        "        # sample batch from memory\n",
        "        memory_batch = random.sample(memory, buffer_size)\n",
        "        for current_state, action, next_state, reward, done in memory_batch:\n",
        "            X.append(current_state)\n",
        "            input_vector = np.reshape(current_state, (1,*current_state.shape))\n",
        "            q_values = model(input_vector).numpy()[0]\n",
        "            if done:\n",
        "                q_values[action] = reward\n",
        "            else:\n",
        "                input_vector = np.reshape(next_state, (1,*next_state.shape))\n",
        "                q_values_next = model(input_vector)\n",
        "                print(q_values_next)\n",
        "                q_values[action] = reward + discount_rate * np.max(q_values_next)\n",
        "            y.append(q_values)\n",
        "\n",
        "        X = np.array(X)\n",
        "        y = np.array(y)\n",
        "        dataset = tf.data.Dataset.from_tensor_slices((X,y)).batch(1)\n",
        "        \n",
        "        # train model here\n",
        "        train_step(X, y, optimizer, loss_fn)\n",
        "\n",
        "        n_epochs = 10\n",
        "        for epoch in range(n_epochs):\n",
        "\n",
        "            for minibatch in dataset:\n",
        "                train_step(minibatch[0], minibatch[-1], optimizer, loss_fn)\n",
        "\n",
        "                train_loss(loss)\n",
        "                train_accuracy(y_true, y_pred)\n",
        "\n",
        "                template = 'Episode {}, Loss: {}, Accuracy: {}'\n",
        "                print(template.format(episode+1,\n",
        "                                train_loss.result(),\n",
        "                                train_accuracy.result()*100))"
      ],
      "execution_count": 0,
      "outputs": []
    },
    {
      "cell_type": "code",
      "metadata": {
        "id": "RP0EEzx3wL7x",
        "colab_type": "code",
        "colab": {
          "base_uri": "https://localhost:8080/",
          "height": 334
        },
        "outputId": "541a42cc-2d5b-4e68-e26b-ec42726d5d40"
      },
      "source": [
        "model = Model(n_obs_space, n_actions, hidden_dim=64)\n",
        "\n",
        "n_episodes = 100\n",
        "replay_buffer_size = 20\n",
        "memory = []\n",
        "reward_list = []\n",
        "memory_index = 0\n",
        "\n",
        "for episode in range(n_episodes):\n",
        "    train_loss.reset_states()\n",
        "    train_accuracy.reset_states()\n",
        "\n",
        "    done = False\n",
        "    current_state = env.reset()\n",
        "    total_reward = 0\n",
        "    memory = []\n",
        "\n",
        "    while not done:\n",
        "        # choose action based on epsilon-greedy policy\n",
        "        if np.random.random() < epsilon:\n",
        "            action = env.action_space.sample()\n",
        "        else:\n",
        "            input_vector = np.reshape(state, (1,*state.shape))\n",
        "            Q_output = model(input_vector)\n",
        "            action = np.argmax(Q_output)\n",
        "\n",
        "        # take chosen action\n",
        "        next_state, reward, done, info = env.step(action)\n",
        "        # add reward\n",
        "        total_reward += reward\n",
        "\n",
        "        # save states and action in memory\n",
        "        memory.append((current_state, action, next_state, reward, done))\n",
        "\n",
        "        if done:\n",
        "            break\n",
        "        \n",
        "        replay(model, memory, replay_buffer_size, discount_rate, optimizer, loss_fn)\n",
        "        current_state = next_state\n",
        "\n",
        "    reward_list.append(total_reward)\n",
        "    plot_res(reward_list)"
      ],
      "execution_count": 276,
      "outputs": [
        {
          "output_type": "display_data",
          "data": {
            "image/png": "[encoded data removed]",
            "text/plain": [
              "<Figure size 864x360 with 2 Axes>"
            ]
          },
          "metadata": {
            "tags": []
          }
        }
      ]
    },
    {
      "cell_type": "code",
      "metadata": {
        "id": "vIWmc4SJkqyR",
        "colab_type": "code",
        "colab": {}
      },
      "source": [
        "plot_res(reward_list)"
      ],
      "execution_count": 0,
      "outputs": []
    },
    {
      "cell_type": "code",
      "metadata": {
        "id": "X153Nolp3GHy",
        "colab_type": "code",
        "colab": {
          "base_uri": "https://localhost:8080/",
          "height": 51
        },
        "outputId": "d9ef3fdf-5daf-4a76-8d74-e2c02b16d865"
      },
      "source": [
        "y[0], model(np.reshape(X[0], (1,*X[0].shape)))"
      ],
      "execution_count": 170,
      "outputs": [
        {
          "output_type": "execute_result",
          "data": {
            "text/plain": [
              "(array([5.2412195, 6.847495 ], dtype=float32),\n",
              " <tf.Tensor: shape=(1, 2), dtype=float32, numpy=array([[5.250276, 6.652201]], dtype=float32)>)"
            ]
          },
          "metadata": {
            "tags": []
          },
          "execution_count": 170
        }
      ]
    },
    {
      "cell_type": "code",
      "metadata": {
        "id": "PUhMJgT60C1D",
        "colab_type": "code",
        "colab": {
          "base_uri": "https://localhost:8080/",
          "height": 34
        },
        "outputId": "4727624b-75b7-4ace-8998-965a88ae64c6"
      },
      "source": [
        "print(train_X.shape, train_y.shape)"
      ],
      "execution_count": 107,
      "outputs": [
        {
          "output_type": "stream",
          "text": [
            "(98, 4) (98, 2)\n"
          ],
          "name": "stdout"
        }
      ]
    },
    {
      "cell_type": "code",
      "metadata": {
        "id": "6BhdaXXHisuG",
        "colab_type": "code",
        "colab": {}
      },
      "source": [
        "import torch"
      ],
      "execution_count": 0,
      "outputs": []
    },
    {
      "cell_type": "code",
      "metadata": {
        "id": "YLPH-pwrwMWM",
        "colab_type": "code",
        "colab": {}
      },
      "source": [
        "class DQN():\n",
        "    ''' Deep Q Neural Network class. '''\n",
        "    def __init__(self, state_dim, action_dim, hidden_dim=64, lr=0.05):\n",
        "            self.criterion = torch.nn.MSELoss()\n",
        "            self.model = torch.nn.Sequential(\n",
        "                            torch.nn.Linear(state_dim, hidden_dim),\n",
        "                            torch.nn.LeakyReLU(),\n",
        "                            torch.nn.Linear(hidden_dim, hidden_dim*2),\n",
        "                            torch.nn.LeakyReLU(),\n",
        "                            torch.nn.Linear(hidden_dim*2, action_dim)\n",
        "                    )\n",
        "            self.optimizer = torch.optim.Adam(self.model.parameters(), lr)\n",
        "\n",
        "    def update(self, state, y):\n",
        "            \"\"\"Update the weights of the network given a training sample. \"\"\"\n",
        "            y_pred = self.model(torch.Tensor(state))\n",
        "            loss = self.criterion(y_pred, Variable(torch.Tensor(y)))\n",
        "            self.optimizer.zero_grad()\n",
        "            loss.backward()\n",
        "            self.optimizer.step()\n",
        "            \n",
        "    def predict(self, state):\n",
        "            \"\"\" Compute Q values for all actions using the DQL. \"\"\"\n",
        "            with torch.no_grad():\n",
        "                return self.model(torch.Tensor(state))"
      ],
      "execution_count": 0,
      "outputs": []
    },
    {
      "cell_type": "code",
      "metadata": {
        "id": "OO2hgWV85dsK",
        "colab_type": "code",
        "colab": {}
      },
      "source": [
        "def q_learning(env, model, episodes, gamma=0.9, \n",
        "               epsilon=0.3, eps_decay=0.99,\n",
        "               replay=False, replay_size=20, \n",
        "               title = 'DQL', double=False, \n",
        "               n_update=10, soft=False):\n",
        "    \"\"\"Deep Q Learning algorithm using the DQN. \"\"\"\n",
        "    final = []\n",
        "    memory = []\n",
        "    for episode in range(episodes):\n",
        "        # Reset state\n",
        "        state = env.reset()\n",
        "        done = False\n",
        "        total = 0\n",
        "        \n",
        "        while not done:\n",
        "            # Implement greedy search policy to explore the state space\n",
        "            if random.random() < epsilon:\n",
        "                action = env.action_space.sample()\n",
        "            else:\n",
        "                q_values = model.predict(state)\n",
        "                action = torch.argmax(q_values).item()\n",
        "            \n",
        "            # Take action and add reward to total\n",
        "            next_state, reward, done, _ = env.step(action)\n",
        "            \n",
        "            # Update total and memory\n",
        "            total += reward\n",
        "            memory.append((state, action, next_state, reward, done))\n",
        "            q_values = model.predict(state).tolist()\n",
        "             \n",
        "            if done:\n",
        "                break\n",
        "\n",
        "            # Update network weights using replay memory\n",
        "            model.replay(memory, replay_size, gamma)\n",
        "            state = next_state\n",
        "        \n",
        "        # Update epsilon\n",
        "        epsilon = max(epsilon * eps_decay, 0.01)\n",
        "        final.append(total)\n",
        "        plot_res(final, title)\n",
        "    return final"
      ],
      "execution_count": 0,
      "outputs": []
    },
    {
      "cell_type": "code",
      "metadata": {
        "id": "KyMPy_X4M737",
        "colab_type": "code",
        "colab": {}
      },
      "source": [
        "# Expand DQL class with a replay function.\n",
        "class DQN_replay(DQN):\n",
        "    def replay(self, memory, size, gamma=0.9):\n",
        "        \"\"\" Add experience replay to the DQN network class. \"\"\"\n",
        "        # Make sure the memory is big enough\n",
        "        if len(memory) >= size:\n",
        "            states = []\n",
        "            targets = []\n",
        "            # Sample a batch of experiences from the agent's memory\n",
        "            batch = random.sample(memory, size)\n",
        "            \n",
        "            # Extract information from the data\n",
        "            for state, action, next_state, reward, done in batch:\n",
        "                states.append(state)\n",
        "                # Predict q_values\n",
        "                q_values = self.predict(state).tolist()\n",
        "                if done:\n",
        "                    q_values[action] = reward\n",
        "                else:\n",
        "                    q_values_next = self.predict(next_state)\n",
        "                    q_values[action] = reward + gamma * torch.max(q_values_next).item()\n",
        "\n",
        "                targets.append(q_values)\n",
        "\n",
        "            self.update(states, targets)"
      ],
      "execution_count": 0,
      "outputs": []
    },
    {
      "cell_type": "code",
      "metadata": {
        "id": "Z1FmwShVjih-",
        "colab_type": "code",
        "colab": {
          "base_uri": "https://localhost:8080/",
          "height": 370
        },
        "outputId": "cd92e122-c3db-4f49-9b36-937c82347350"
      },
      "source": [
        "# Get replay results\n",
        "dqn_replay = DQN_replay(n_obs_space, n_actions, n_hidden, lr=0.05)\n",
        "\n",
        "replay = q_learning(env, dqn_replay, \n",
        "                    episodes=150, gamma=.9, \n",
        "                    epsilon=0.2, replay=True, \n",
        "                    title='DQL with Replay')"
      ],
      "execution_count": 281,
      "outputs": [
        {
          "output_type": "display_data",
          "data": {
            "image/png": "[encoded data removed]",
            "text/plain": [
              "<Figure size 864x360 with 2 Axes>"
            ]
          },
          "metadata": {
            "tags": []
          }
        }
      ]
    },
    {
      "cell_type": "code",
      "metadata": {
        "id": "GD5JJsLJaC4q",
        "colab_type": "code",
        "colab": {}
      },
      "source": [
        ""
      ],
      "execution_count": 0,
      "outputs": []
    }
  ]
}